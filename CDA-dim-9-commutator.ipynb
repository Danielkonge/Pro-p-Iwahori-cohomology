{
 "cells": [
  {
   "cell_type": "code",
   "execution_count": 1,
   "id": "2980a829",
   "metadata": {},
   "outputs": [
    {
     "data": {
      "text/plain": [
       "Finite Field in a of size 5^3"
      ]
     },
     "execution_count": 1,
     "metadata": {},
     "output_type": "execute_result"
    }
   ],
   "source": [
    "F5_3.<a> = GF(5^3, 'a')\n",
    "F5_3 # Finite field with basis 1, a, a^2 over F_5"
   ]
  },
  {
   "cell_type": "code",
   "execution_count": 8,
   "id": "b07a60a7",
   "metadata": {},
   "outputs": [
    {
     "name": "stdout",
     "output_type": "stream",
     "text": [
      "x^3 + x + 1\n",
      "x^3 + x + 4\n",
      "x^3 + 2*x + 1\n",
      "x^3 + 2*x + 4\n",
      "x^3 + 3*x + 2\n",
      "x^3 + 3*x + 3\n",
      "x^3 + 4*x + 2\n",
      "x^3 + 4*x + 3\n",
      "x^3 + x^2 + 1\n",
      "x^3 + x^2 + 2\n",
      "x^3 + x^2 + x + 3\n",
      "x^3 + x^2 + x + 4\n",
      "x^3 + x^2 + 3*x + 1\n",
      "x^3 + x^2 + 3*x + 4\n",
      "x^3 + x^2 + 4*x + 1\n",
      "x^3 + x^2 + 4*x + 3\n",
      "x^3 + 2*x^2 + 1\n",
      "x^3 + 2*x^2 + 3\n",
      "x^3 + 2*x^2 + x + 3\n",
      "x^3 + 2*x^2 + x + 4\n",
      "x^3 + 2*x^2 + 2*x + 2\n",
      "x^3 + 2*x^2 + 2*x + 3\n",
      "x^3 + 2*x^2 + 4*x + 2\n",
      "x^3 + 2*x^2 + 4*x + 4\n",
      "x^3 + 3*x^2 + 2\n",
      "x^3 + 3*x^2 + 4\n",
      "x^3 + 3*x^2 + x + 1\n",
      "x^3 + 3*x^2 + x + 2\n",
      "x^3 + 3*x^2 + 2*x + 2\n",
      "x^3 + 3*x^2 + 2*x + 3\n",
      "x^3 + 3*x^2 + 4*x + 1\n",
      "x^3 + 3*x^2 + 4*x + 3\n",
      "x^3 + 4*x^2 + 3\n",
      "x^3 + 4*x^2 + 4\n",
      "x^3 + 4*x^2 + x + 1\n",
      "x^3 + 4*x^2 + x + 2\n",
      "x^3 + 4*x^2 + 3*x + 1\n",
      "x^3 + 4*x^2 + 3*x + 4\n",
      "x^3 + 4*x^2 + 4*x + 2\n",
      "x^3 + 4*x^2 + 4*x + 4\n",
      "2*x^3 + x + 1\n",
      "2*x^3 + x + 4\n",
      "2*x^3 + 2*x + 2\n",
      "2*x^3 + 2*x + 3\n",
      "2*x^3 + 3*x + 1\n",
      "2*x^3 + 3*x + 4\n",
      "2*x^3 + 4*x + 2\n",
      "2*x^3 + 4*x + 3\n",
      "2*x^3 + x^2 + 3\n",
      "2*x^3 + x^2 + 4\n",
      "2*x^3 + x^2 + 2*x + 2\n",
      "2*x^3 + x^2 + 2*x + 4\n",
      "2*x^3 + x^2 + 3*x + 1\n",
      "2*x^3 + x^2 + 3*x + 2\n",
      "2*x^3 + x^2 + 4*x + 1\n",
      "2*x^3 + x^2 + 4*x + 4\n",
      "2*x^3 + 2*x^2 + 2\n",
      "2*x^3 + 2*x^2 + 4\n",
      "2*x^3 + 2*x^2 + x + 2\n",
      "2*x^3 + 2*x^2 + x + 3\n",
      "2*x^3 + 2*x^2 + 2*x + 1\n",
      "2*x^3 + 2*x^2 + 2*x + 3\n",
      "2*x^3 + 2*x^2 + 3*x + 1\n",
      "2*x^3 + 2*x^2 + 3*x + 2\n",
      "2*x^3 + 3*x^2 + 1\n",
      "2*x^3 + 3*x^2 + 3\n",
      "2*x^3 + 3*x^2 + x + 2\n",
      "2*x^3 + 3*x^2 + x + 3\n",
      "2*x^3 + 3*x^2 + 2*x + 2\n",
      "2*x^3 + 3*x^2 + 2*x + 4\n",
      "2*x^3 + 3*x^2 + 3*x + 3\n",
      "2*x^3 + 3*x^2 + 3*x + 4\n",
      "2*x^3 + 4*x^2 + 1\n",
      "2*x^3 + 4*x^2 + 2\n",
      "2*x^3 + 4*x^2 + 2*x + 1\n",
      "2*x^3 + 4*x^2 + 2*x + 3\n",
      "2*x^3 + 4*x^2 + 3*x + 3\n",
      "2*x^3 + 4*x^2 + 3*x + 4\n",
      "2*x^3 + 4*x^2 + 4*x + 1\n",
      "2*x^3 + 4*x^2 + 4*x + 4\n",
      "3*x^3 + x + 2\n",
      "3*x^3 + x + 3\n",
      "3*x^3 + 2*x + 1\n",
      "3*x^3 + 2*x + 4\n",
      "3*x^3 + 3*x + 2\n",
      "3*x^3 + 3*x + 3\n",
      "3*x^3 + 4*x + 1\n",
      "3*x^3 + 4*x + 4\n",
      "3*x^3 + x^2 + 3\n",
      "3*x^3 + x^2 + 4\n",
      "3*x^3 + x^2 + x + 1\n",
      "3*x^3 + x^2 + x + 4\n",
      "3*x^3 + x^2 + 2*x + 1\n",
      "3*x^3 + x^2 + 2*x + 2\n",
      "3*x^3 + x^2 + 3*x + 2\n",
      "3*x^3 + x^2 + 3*x + 4\n",
      "3*x^3 + 2*x^2 + 2\n",
      "3*x^3 + 2*x^2 + 4\n",
      "3*x^3 + 2*x^2 + 2*x + 1\n",
      "3*x^3 + 2*x^2 + 2*x + 2\n",
      "3*x^3 + 2*x^2 + 3*x + 1\n",
      "3*x^3 + 2*x^2 + 3*x + 3\n",
      "3*x^3 + 2*x^2 + 4*x + 2\n",
      "3*x^3 + 2*x^2 + 4*x + 3\n",
      "3*x^3 + 3*x^2 + 1\n",
      "3*x^3 + 3*x^2 + 3\n",
      "3*x^3 + 3*x^2 + 2*x + 3\n",
      "3*x^3 + 3*x^2 + 2*x + 4\n",
      "3*x^3 + 3*x^2 + 3*x + 2\n",
      "3*x^3 + 3*x^2 + 3*x + 4\n",
      "3*x^3 + 3*x^2 + 4*x + 2\n",
      "3*x^3 + 3*x^2 + 4*x + 3\n",
      "3*x^3 + 4*x^2 + 1\n",
      "3*x^3 + 4*x^2 + 2\n",
      "3*x^3 + 4*x^2 + x + 1\n",
      "3*x^3 + 4*x^2 + x + 4\n",
      "3*x^3 + 4*x^2 + 2*x + 3\n",
      "3*x^3 + 4*x^2 + 2*x + 4\n",
      "3*x^3 + 4*x^2 + 3*x + 1\n",
      "3*x^3 + 4*x^2 + 3*x + 3\n",
      "4*x^3 + x + 2\n",
      "4*x^3 + x + 3\n",
      "4*x^3 + 2*x + 2\n",
      "4*x^3 + 2*x + 3\n",
      "4*x^3 + 3*x + 1\n",
      "4*x^3 + 3*x + 4\n",
      "4*x^3 + 4*x + 1\n",
      "4*x^3 + 4*x + 4\n",
      "4*x^3 + x^2 + 1\n",
      "4*x^3 + x^2 + 2\n",
      "4*x^3 + x^2 + x + 1\n",
      "4*x^3 + x^2 + x + 3\n",
      "4*x^3 + x^2 + 2*x + 1\n",
      "4*x^3 + x^2 + 2*x + 4\n",
      "4*x^3 + x^2 + 4*x + 3\n",
      "4*x^3 + x^2 + 4*x + 4\n",
      "4*x^3 + 2*x^2 + 1\n",
      "4*x^3 + 2*x^2 + 3\n",
      "4*x^3 + 2*x^2 + x + 2\n",
      "4*x^3 + 2*x^2 + x + 4\n",
      "4*x^3 + 2*x^2 + 3*x + 2\n",
      "4*x^3 + 2*x^2 + 3*x + 3\n",
      "4*x^3 + 2*x^2 + 4*x + 3\n",
      "4*x^3 + 2*x^2 + 4*x + 4\n",
      "4*x^3 + 3*x^2 + 2\n",
      "4*x^3 + 3*x^2 + 4\n",
      "4*x^3 + 3*x^2 + x + 1\n",
      "4*x^3 + 3*x^2 + x + 3\n",
      "4*x^3 + 3*x^2 + 3*x + 2\n",
      "4*x^3 + 3*x^2 + 3*x + 3\n",
      "4*x^3 + 3*x^2 + 4*x + 1\n",
      "4*x^3 + 3*x^2 + 4*x + 2\n",
      "4*x^3 + 4*x^2 + 3\n",
      "4*x^3 + 4*x^2 + 4\n",
      "4*x^3 + 4*x^2 + x + 2\n",
      "4*x^3 + 4*x^2 + x + 4\n",
      "4*x^3 + 4*x^2 + 2*x + 1\n",
      "4*x^3 + 4*x^2 + 2*x + 4\n",
      "4*x^3 + 4*x^2 + 4*x + 1\n",
      "4*x^3 + 4*x^2 + 4*x + 2\n"
     ]
    }
   ],
   "source": [
    "F5_x = GF(5)['x']\n",
    "for p in F5_x.polynomials(3):\n",
    "    if p.is_irreducible():\n",
    "        print(p)"
   ]
  },
  {
   "cell_type": "code",
   "execution_count": 2,
   "id": "529ea1e9",
   "metadata": {},
   "outputs": [
    {
     "data": {
      "text/plain": [
       "(x^3 + 3*x + 3, 2*a + 2)"
      ]
     },
     "execution_count": 2,
     "metadata": {},
     "output_type": "execute_result"
    }
   ],
   "source": [
    "F5_3.modulus(), a^3"
   ]
  },
  {
   "cell_type": "code",
   "execution_count": 3,
   "id": "a7f1cff2",
   "metadata": {},
   "outputs": [],
   "source": [
    "def trace_F5_3(x):\n",
    "    return (x + x^(5) + x^(5^2))"
   ]
  },
  {
   "cell_type": "code",
   "execution_count": 4,
   "id": "27548f18",
   "metadata": {},
   "outputs": [
    {
     "data": {
      "text/plain": [
       "[3, 0, 4]"
      ]
     },
     "execution_count": 4,
     "metadata": {},
     "output_type": "execute_result"
    }
   ],
   "source": [
    "[trace_F5_3(x) for x in [1,a,a^2]] # F_D^(Tr = 0) has basis a, 4-3a^2"
   ]
  },
  {
   "cell_type": "code",
   "execution_count": 5,
   "id": "db21b292",
   "metadata": {},
   "outputs": [
    {
     "data": {
      "text/plain": [
       "(0, 0)"
      ]
     },
     "execution_count": 5,
     "metadata": {},
     "output_type": "execute_result"
    }
   ],
   "source": [
    "trace_F5_3(a),trace_F5_3(4-3*a^2)"
   ]
  },
  {
   "cell_type": "code",
   "execution_count": 6,
   "id": "211ba45b",
   "metadata": {},
   "outputs": [],
   "source": [
    "def commutator_F5_3_helper(x, i, y, j):\n",
    "    \"\"\"\n",
    "    Return (0,i+j) if i+j>3 and ([x,y],i+j) otherwise.\n",
    "    \n",
    "    Input: \n",
    "    x = basis element of F5_3\n",
    "    i = grade of x\n",
    "    y = basis element of F5_3\n",
    "    j = grade of y\n",
    "    \n",
    "    Output:\n",
    "    A tuple (z,k) with z an element of F5_3 and k its grade\n",
    "    \n",
    "    Description:\n",
    "    Find the degree k=i+j of [x,y], and calculate\n",
    "    [x,y] = x*y^(p^i) - y*x^(p^j)\n",
    "    \"\"\"\n",
    "    if i+j > 3:\n",
    "        return (0, i+j)\n",
    "    return (x*y^(5^i) - y*x^(5^j), i+j)"
   ]
  },
  {
   "cell_type": "code",
   "execution_count": 7,
   "id": "e2aedb79",
   "metadata": {},
   "outputs": [
    {
     "name": "stdout",
     "output_type": "stream",
     "text": [
      "\n",
      "                [x,y] = [1,a] = 2*a^2 + 3*a + 4 in grade 2\n",
      "                for x = 1 in grade 1, y = a in grade 1\n",
      "                \n",
      "\n",
      "                [x,y] = [1,a^2] = 4*a^2 + 2*a + 3 in grade 2\n",
      "                for x = 1 in grade 1, y = a^2 in grade 1\n",
      "                \n",
      "\n",
      "                [x,y] = [1,a] = 2*a^2 + 3*a + 4 in grade 3\n",
      "                for x = 1 in grade 1, y = a in grade 2\n",
      "                \n",
      "\n",
      "                [x,y] = [1,a^2] = 4*a^2 + 2*a + 3 in grade 3\n",
      "                for x = 1 in grade 1, y = a^2 in grade 2\n",
      "                \n",
      "\n",
      "                [x,y] = [a,a^2] = 4*a^2 + a + 2 in grade 2\n",
      "                for x = a in grade 1, y = a^2 in grade 1\n",
      "                \n",
      "\n",
      "                [x,y] = [a,1] = 2*a^2 + a + 4 in grade 3\n",
      "                for x = a in grade 1, y = 1 in grade 2\n",
      "                \n",
      "\n",
      "                [x,y] = [a,a] = 4*a^2 + a + 3 in grade 3\n",
      "                for x = a in grade 1, y = a in grade 2\n",
      "                \n",
      "\n",
      "                [x,y] = [a,a^2] = 2*a in grade 3\n",
      "                for x = a in grade 1, y = a^2 in grade 2\n",
      "                \n",
      "\n",
      "                [x,y] = [a^2,1] = 2*a^2 + 2*a + 4 in grade 3\n",
      "                for x = a^2 in grade 1, y = 1 in grade 2\n",
      "                \n",
      "\n",
      "                [x,y] = [a^2,a] = 3*a in grade 3\n",
      "                for x = a^2 in grade 1, y = a in grade 2\n",
      "                \n",
      "\n",
      "                [x,y] = [a^2,a^2] = 4*a^2 + 3 in grade 3\n",
      "                for x = a^2 in grade 1, y = a^2 in grade 2\n",
      "                \n"
     ]
    }
   ],
   "source": [
    "g_basis = [1,a,a^2,1,a,a^2,1,a,a^2]\n",
    "for x in range(len(g_basis)):\n",
    "    for y in range(x,len(g_basis)):\n",
    "        i = (x // 3) + 1\n",
    "        j = (y // 3) + 1\n",
    "        if commutator_F5_3_helper(g_basis[x],i,g_basis[y],j)[0] != 0:\n",
    "            print(\n",
    "                f\"\"\"\n",
    "                [x,y] = [{g_basis[x]},{g_basis[y]}] = {commutator_F5_3_helper(g_basis[x],i,g_basis[y],j)[0]} in grade {i+j}\n",
    "                for x = {g_basis[x]} in grade {i}, y = {g_basis[y]} in grade {j}\n",
    "                \"\"\"\n",
    "            )"
   ]
  },
  {
   "cell_type": "code",
   "execution_count": null,
   "id": "252bf62a",
   "metadata": {},
   "outputs": [],
   "source": []
  }
 ],
 "metadata": {
  "kernelspec": {
   "display_name": "SageMath 9.7",
   "language": "sage",
   "name": "sagemath-9.7"
  },
  "language_info": {
   "codemirror_mode": {
    "name": "ipython",
    "version": 3
   },
   "file_extension": ".py",
   "mimetype": "text/x-python",
   "name": "python",
   "nbconvert_exporter": "python",
   "pygments_lexer": "ipython3",
   "version": "3.10.5"
  }
 },
 "nbformat": 4,
 "nbformat_minor": 5
}
